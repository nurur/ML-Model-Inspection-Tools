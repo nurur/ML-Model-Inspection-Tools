{
 "cells": [
  {
   "cell_type": "markdown",
   "id": "af78240c",
   "metadata": {},
   "source": [
    "# SKLearn : Inspection\n",
    "\n",
    "#### Permutation Importance\n",
    "Permutation importance is geenerally used in feature evaluation. It is defined to be the \n",
    "decrease in a model score when a single feature value is randomly shuffled. \n",
    "\n",
    "Permutation importance does not reflect to the intrinsic predictive value of a feature by itself but how important this feature is for a particular model.\n",
    "\n",
    "https://scikit-learn.org/stable/modules/generated/sklearn.inspection.permutation_importance.html\n",
    "\n",
    "https://scikit-learn.org/stable/modules/permutation_importance.html\n",
    "\n",
    "\n",
    "https://scikit-learn.org/stable/auto_examples/inspection/plot_permutation_importance_multicollinear.html"
   ]
  },
  {
   "cell_type": "markdown",
   "id": "0eae96e9",
   "metadata": {},
   "source": [
    "1. Example 1 :  Toy Data\n",
    "\n",
    "2. Example 2 :  California Data\n",
    "\n",
    "3. Example 3 :  IRIS Data"
   ]
  },
  {
   "cell_type": "code",
   "execution_count": 1,
   "id": "f8168561",
   "metadata": {},
   "outputs": [],
   "source": [
    "import numpy as np\n",
    "import pandas as pd"
   ]
  },
  {
   "cell_type": "code",
   "execution_count": 2,
   "id": "33326726",
   "metadata": {},
   "outputs": [],
   "source": [
    "import matplotlib \n",
    "import matplotlib.pyplot as plt"
   ]
  },
  {
   "cell_type": "code",
   "execution_count": 3,
   "id": "b3737288",
   "metadata": {},
   "outputs": [],
   "source": [
    "from sklearn import tree \n",
    "from sklearn.inspection import permutation_importance"
   ]
  },
  {
   "cell_type": "code",
   "execution_count": 4,
   "id": "3c406dd5",
   "metadata": {},
   "outputs": [],
   "source": [
    "%matplotlib inline"
   ]
  },
  {
   "cell_type": "markdown",
   "id": "60e94986",
   "metadata": {},
   "source": [
    "## Example 1 : Toy Data"
   ]
  },
  {
   "cell_type": "markdown",
   "id": "a17c1841",
   "metadata": {},
   "source": [
    "#### Regression"
   ]
  },
  {
   "cell_type": "code",
   "execution_count": 5,
   "id": "94c53c21",
   "metadata": {},
   "outputs": [],
   "source": [
    "X = np.array([[0.0, 0.1, 2.1], [1.0, 0.5, 3.0], [2.0, 1.0, 3.5]])\n",
    "y = np.array([0, 1, 2.5])"
   ]
  },
  {
   "cell_type": "code",
   "execution_count": 6,
   "id": "c6e8144c",
   "metadata": {},
   "outputs": [
    {
     "name": "stdout",
     "output_type": "stream",
     "text": [
      "[0.         0.20842105 0.        ]\n",
      "[0.        0.1413665 0.       ]\n"
     ]
    }
   ],
   "source": [
    "from sklearn.ensemble import GradientBoostingRegressor\n",
    "rgr = GradientBoostingRegressor(n_estimators=1, max_depth=1, random_state=None)\n",
    "rgr.fit(X, y)\n",
    "\n",
    "\n",
    "pimp = permutation_importance(\n",
    "    rgr, \n",
    "    X, \n",
    "    y, \n",
    "    n_repeats=10,\n",
    "    random_state=None)\n",
    "\n",
    "\n",
    "# print( pimp.importances, '\\n')\n",
    "print( pimp.importances_mean )\n",
    "print( pimp.importances_std )"
   ]
  },
  {
   "cell_type": "code",
   "execution_count": 7,
   "id": "b4b9e33c",
   "metadata": {},
   "outputs": [
    {
     "name": "stdout",
     "output_type": "stream",
     "text": [
      "[1.70526316 0.         0.        ]\n",
      "[1.23279292 0.         0.        ]\n"
     ]
    }
   ],
   "source": [
    "from sklearn.tree import DecisionTreeRegressor\n",
    "rgr = DecisionTreeRegressor(max_depth=1, random_state=None)\n",
    "rgr.fit(X, y)\n",
    "\n",
    "pimp = permutation_importance(\n",
    "    rgr, \n",
    "    X, \n",
    "    y, \n",
    "    n_repeats=10,\n",
    "    random_state=None)\n",
    "\n",
    "\n",
    "# print( pimp.importances, '\\n')\n",
    "print( pimp.importances_mean )\n",
    "print( pimp.importances_std )"
   ]
  },
  {
   "cell_type": "code",
   "execution_count": 8,
   "id": "a16d4790",
   "metadata": {},
   "outputs": [
    {
     "name": "stdout",
     "output_type": "stream",
     "text": [
      "[ 1.5 -2.  -2. ]\n",
      "[ 0 -2 -2]\n"
     ]
    }
   ],
   "source": [
    "print( rgr.tree_.threshold )\n",
    "print( rgr.tree_.feature )"
   ]
  },
  {
   "cell_type": "code",
   "execution_count": 9,
   "id": "76dbb3fb",
   "metadata": {},
   "outputs": [
    {
     "data": {
      "image/png": "[encoded data removed]",
      "text/plain": [
       "<Figure size 640x480 with 1 Axes>"
      ]
     },
     "metadata": {},
     "output_type": "display_data"
    }
   ],
   "source": [
    "tree.plot_tree(rgr)\n",
    "plt.show()"
   ]
  },
  {
   "cell_type": "code",
   "execution_count": 10,
   "id": "dd3edaf5",
   "metadata": {},
   "outputs": [
    {
     "name": "stdout",
     "output_type": "stream",
     "text": [
      "[3.56260474 0.4580919  0.83045074]\n",
      "[1.24665197 0.16006569 0.28796714]\n"
     ]
    }
   ],
   "source": [
    "from sklearn.linear_model import LinearRegression\n",
    "rgr = LinearRegression()\n",
    "rgr.fit(X,y)\n",
    "\n",
    "pimp = permutation_importance(\n",
    "    rgr, \n",
    "    X, \n",
    "    y, \n",
    "    n_repeats=10,\n",
    "    random_state=None)\n",
    "\n",
    "\n",
    "# print( pimp.importances, '\\n')\n",
    "print( pimp.importances_mean )\n",
    "print( pimp.importances_std )"
   ]
  },
  {
   "cell_type": "markdown",
   "id": "eb50c680",
   "metadata": {},
   "source": [
    "#### Classification"
   ]
  },
  {
   "cell_type": "code",
   "execution_count": 11,
   "id": "a6e0adaf",
   "metadata": {},
   "outputs": [],
   "source": [
    "X = np.array([[0.0,0.1,2.1], [1.0,0.5,3.0], [2.0,1.0,3.5]])\n",
    "y = np.array([0,1,1])"
   ]
  },
  {
   "cell_type": "code",
   "execution_count": 12,
   "id": "c16b3944",
   "metadata": {},
   "outputs": [
    {
     "name": "stdout",
     "output_type": "stream",
     "text": [
      "[0. 0. 0.]\n",
      "[0. 0. 0.]\n"
     ]
    }
   ],
   "source": [
    "from sklearn.ensemble import GradientBoostingClassifier\n",
    "clf = GradientBoostingClassifier(n_estimators=1, max_depth=1, random_state=None)\n",
    "clf.fit(X, y)\n",
    "\n",
    "pimp = permutation_importance(\n",
    "    clf, \n",
    "    X, \n",
    "    y, \n",
    "    n_repeats=10,\n",
    "    random_state=None)\n",
    "\n",
    "\n",
    "# print( pimp.importances, '\\n')\n",
    "print( pimp.importances_mean )\n",
    "print( pimp.importances_std )"
   ]
  },
  {
   "cell_type": "code",
   "execution_count": 13,
   "id": "cafa6f72",
   "metadata": {},
   "outputs": [
    {
     "name": "stdout",
     "output_type": "stream",
     "text": [
      "[0.26666667 0.         0.        ]\n",
      "[0.32659863 0.         0.        ]\n"
     ]
    }
   ],
   "source": [
    "from sklearn.tree import DecisionTreeClassifier\n",
    "clf = DecisionTreeClassifier(max_depth=1, random_state=None)\n",
    "clf.fit(X,y)\n",
    "\n",
    "pimp = permutation_importance(\n",
    "    clf, \n",
    "    X, \n",
    "    y, \n",
    "    n_repeats=10,\n",
    "    random_state=None)\n",
    "\n",
    "\n",
    "# print( pimp.importances, '\\n')\n",
    "print( pimp.importances_mean )\n",
    "print( pimp.importances_std )"
   ]
  },
  {
   "cell_type": "code",
   "execution_count": 14,
   "id": "50e1c971",
   "metadata": {},
   "outputs": [
    {
     "name": "stdout",
     "output_type": "stream",
     "text": [
      "[ 0.5 -2.  -2. ]\n",
      "[ 0 -2 -2]\n"
     ]
    }
   ],
   "source": [
    "print( clf.tree_.threshold )\n",
    "print( clf.tree_.feature )"
   ]
  },
  {
   "cell_type": "code",
   "execution_count": 15,
   "id": "49b2a24c",
   "metadata": {},
   "outputs": [
    {
     "data": {
      "image/png": "[encoded data removed]",
      "text/plain": [
       "<Figure size 640x480 with 1 Axes>"
      ]
     },
     "metadata": {},
     "output_type": "display_data"
    }
   ],
   "source": [
    "tree.plot_tree(clf)\n",
    "plt.show()"
   ]
  },
  {
   "cell_type": "code",
   "execution_count": 16,
   "id": "c6e15327",
   "metadata": {},
   "outputs": [
    {
     "name": "stdout",
     "output_type": "stream",
     "text": [
      "[0.16666667 0.         0.16666667]\n",
      "[0.16666667 0.         0.16666667]\n"
     ]
    }
   ],
   "source": [
    "from sklearn.linear_model import LogisticRegression\n",
    "clf = LogisticRegression()\n",
    "clf.fit(X,y)\n",
    "\n",
    "pimp = permutation_importance(\n",
    "    clf, \n",
    "    X, \n",
    "    y, \n",
    "    n_repeats=10,\n",
    "    random_state=None)\n",
    "\n",
    "\n",
    "# print( pimp.importances, '\\n')\n",
    "print( pimp.importances_mean )\n",
    "print( pimp.importances_std )"
   ]
  },
  {
   "cell_type": "markdown",
   "id": "68231b8a",
   "metadata": {},
   "source": [
    "## Example 2 : SKLearn California Housing Data"
   ]
  },
  {
   "cell_type": "markdown",
   "id": "cedb25a3",
   "metadata": {},
   "source": [
    "#### Regression"
   ]
  },
  {
   "cell_type": "code",
   "execution_count": 17,
   "id": "ce3e271f",
   "metadata": {},
   "outputs": [],
   "source": [
    "from sklearn.datasets import fetch_california_housing\n",
    "from sklearn.model_selection import train_test_split"
   ]
  },
  {
   "cell_type": "code",
   "execution_count": 18,
   "id": "daf4bd57",
   "metadata": {},
   "outputs": [],
   "source": [
    "cal_housing = fetch_california_housing(return_X_y=False)\n",
    "X = pd.DataFrame(cal_housing.data, columns=cal_housing.feature_names)\n",
    "y = cal_housing.target"
   ]
  },
  {
   "cell_type": "code",
   "execution_count": 19,
   "id": "7a54e74a",
   "metadata": {},
   "outputs": [],
   "source": [
    "# print(X.shape)\n",
    "# print(X.columns)\n",
    "# print( pd.Series(cal_housing.target).describe())"
   ]
  },
  {
   "cell_type": "markdown",
   "id": "15c545c5",
   "metadata": {},
   "source": [
    "### Model 1 : MLPRegressor"
   ]
  },
  {
   "cell_type": "code",
   "execution_count": 20,
   "id": "fbf76fd6",
   "metadata": {},
   "outputs": [],
   "source": [
    "y -= y.mean()\n",
    "X_train, X_test, y_train, y_test = train_test_split(X, y, test_size=0.1, random_state=0)"
   ]
  },
  {
   "cell_type": "code",
   "execution_count": 21,
   "id": "2f2551e7",
   "metadata": {},
   "outputs": [],
   "source": [
    "### Model 1 : MLPRegressor"
   ]
  },
  {
   "cell_type": "code",
   "execution_count": 22,
   "id": "be5afd7d",
   "metadata": {},
   "outputs": [],
   "source": [
    "from time import time\n",
    "from sklearn.pipeline import make_pipeline\n",
    "from sklearn.preprocessing import QuantileTransformer\n",
    "from sklearn.neural_network import MLPRegressor\n",
    "from sklearn.inspection import PartialDependenceDisplay"
   ]
  },
  {
   "cell_type": "code",
   "execution_count": 23,
   "id": "0c110768",
   "metadata": {},
   "outputs": [
    {
     "name": "stdout",
     "output_type": "stream",
     "text": [
      "Training MLPRegressor ...\n",
      "Fitting done in 2.851s\n",
      "Test R2 score: 0.81\n"
     ]
    }
   ],
   "source": [
    "print(\"Training MLPRegressor ...\")\n",
    "start_tic = time()\n",
    "\n",
    "est = make_pipeline(\n",
    "    QuantileTransformer(),\n",
    "    MLPRegressor(\n",
    "        hidden_layer_sizes=(30, 15),\n",
    "        learning_rate_init=0.01,\n",
    "        early_stopping=True,\n",
    "        random_state=0,\n",
    "    ),\n",
    ")\n",
    "\n",
    "est.fit(X_train, y_train)\n",
    "\n",
    "end_tic  = time()\n",
    "print(f\"Fitting done in {end_tic - start_tic:0.3f}s\")\n",
    "print(f\"Test R2 score: {est.score(X_test, y_test):.2f}\")"
   ]
  },
  {
   "cell_type": "code",
   "execution_count": 24,
   "id": "86923e5f",
   "metadata": {},
   "outputs": [
    {
     "name": "stdout",
     "output_type": "stream",
     "text": [
      "[0.4963, 0.0477, 0.1067, 0.0074, 0.0073, 0.1697, 2.328, 1.9619]\n",
      "[0.0108, 0.0042, 0.0078, 0.0012, 0.0018, 0.0042, 0.0556, 0.0605]\n"
     ]
    }
   ],
   "source": [
    "pimp = permutation_importance(\n",
    "    est, \n",
    "    X_test, \n",
    "    y_test, \n",
    "    n_repeats=10,\n",
    "    random_state=None)\n",
    "\n",
    "\n",
    "# print( pimp.importances, '\\n')\n",
    "print( [round(x,4) for x in pimp.importances_mean] )\n",
    "print( [round(x,4) for x in pimp.importances_std] )"
   ]
  },
  {
   "cell_type": "code",
   "execution_count": 25,
   "id": "6aa30618",
   "metadata": {},
   "outputs": [
    {
     "data": {
      "image/png": "[encoded data removed]",
      "text/plain": [
       "<Figure size 1800x600 with 1 Axes>"
      ]
     },
     "metadata": {},
     "output_type": "display_data"
    }
   ],
   "source": [
    "fig, ax = plt.subplots(1, 1, figsize=(18,6))\n",
    "\n",
    "ax.bar(X.columns, pimp.importances_mean)\n",
    "\n",
    "plt.show()"
   ]
  },
  {
   "cell_type": "markdown",
   "id": "43ca6408",
   "metadata": {},
   "source": [
    "### Model 2 : HistGradientBoostingRegressor"
   ]
  },
  {
   "cell_type": "code",
   "execution_count": 26,
   "id": "f7a63218",
   "metadata": {},
   "outputs": [
    {
     "name": "stdout",
     "output_type": "stream",
     "text": [
      "Training HistGradientBoostingRegressor...\n",
      "done in 1.160s\n",
      "Test R2 score: 0.85\n"
     ]
    }
   ],
   "source": [
    "from sklearn.ensemble import HistGradientBoostingRegressor\n",
    "\n",
    "print(\"Training HistGradientBoostingRegressor...\")\n",
    "tic = time()\n",
    "\n",
    "est = HistGradientBoostingRegressor(random_state=0)\n",
    "est.fit(X_train, y_train)\n",
    "\n",
    "print(f\"done in {time() - tic:.3f}s\")\n",
    "print(f\"Test R2 score: {est.score(X_test, y_test):.2f}\")"
   ]
  },
  {
   "cell_type": "code",
   "execution_count": 27,
   "id": "cd5df5a2",
   "metadata": {},
   "outputs": [
    {
     "name": "stdout",
     "output_type": "stream",
     "text": [
      "[0.5612, 0.0493, 0.0532, 0.0116, 0.012, 0.1642, 0.8699, 0.7054]\n",
      "[0.0045, 0.0013, 0.0008, 0.0003, 0.0003, 0.0024, 0.0063, 0.0057]\n"
     ]
    }
   ],
   "source": [
    "pimp = permutation_importance(\n",
    "    est, \n",
    "    X_train, \n",
    "    y_train, \n",
    "    n_repeats=10,\n",
    "    random_state=None)\n",
    "\n",
    "\n",
    "# print( pimp.importances, '\\n')\n",
    "print( [round(x,4) for x in pimp.importances_mean] )\n",
    "print( [round(x,4) for x in pimp.importances_std] )"
   ]
  },
  {
   "cell_type": "code",
   "execution_count": 28,
   "id": "0364dd67",
   "metadata": {},
   "outputs": [
    {
     "data": {
      "image/png": "[encoded data removed]",
      "text/plain": [
       "<Figure size 1800x600 with 1 Axes>"
      ]
     },
     "metadata": {},
     "output_type": "display_data"
    }
   ],
   "source": [
    "fig, ax = plt.subplots(1, 1, figsize=(18,6))\n",
    "\n",
    "ax.bar(X.columns, pimp.importances_mean)\n",
    "\n",
    "plt.show()"
   ]
  },
  {
   "cell_type": "markdown",
   "id": "816c44ba",
   "metadata": {},
   "source": [
    "## Example 3 : SKLearn IRIS Data"
   ]
  },
  {
   "cell_type": "markdown",
   "id": "dd1ab948",
   "metadata": {},
   "source": [
    "####  Classification "
   ]
  },
  {
   "cell_type": "code",
   "execution_count": 29,
   "id": "22c37aa7",
   "metadata": {},
   "outputs": [
    {
     "data": {
      "text/html": [
       "<style>#sk-container-id-1 {color: black;background-color: white;}#sk-container-id-1 pre{padding: 0;}#sk-container-id-1 div.sk-toggleable {background-color: white;}#sk-container-id-1 label.sk-toggleable__label {cursor: pointer;display: block;width: 100%;margin-bottom: 0;padding: 0.3em;box-sizing: border-box;text-align: center;}#sk-container-id-1 label.sk-toggleable__label-arrow:before {content: \"▸\";float: left;margin-right: 0.25em;color: #696969;}#sk-container-id-1 label.sk-toggleable__label-arrow:hover:before {color: black;}#sk-container-id-1 div.sk-estimator:hover label.sk-toggleable__label-arrow:before {color: black;}#sk-container-id-1 div.sk-toggleable__content {max-height: 0;max-width: 0;overflow: hidden;text-align: left;background-color: #f0f8ff;}#sk-container-id-1 div.sk-toggleable__content pre {margin: 0.2em;color: black;border-radius: 0.25em;background-color: #f0f8ff;}#sk-container-id-1 input.sk-toggleable__control:checked~div.sk-toggleable__content {max-height: 200px;max-width: 100%;overflow: auto;}#sk-container-id-1 input.sk-toggleable__control:checked~label.sk-toggleable__label-arrow:before {content: \"▾\";}#sk-container-id-1 div.sk-estimator input.sk-toggleable__control:checked~label.sk-toggleable__label {background-color: #d4ebff;}#sk-container-id-1 div.sk-label input.sk-toggleable__control:checked~label.sk-toggleable__label {background-color: #d4ebff;}#sk-container-id-1 input.sk-hidden--visually {border: 0;clip: rect(1px 1px 1px 1px);clip: rect(1px, 1px, 1px, 1px);height: 1px;margin: -1px;overflow: hidden;padding: 0;position: absolute;width: 1px;}#sk-container-id-1 div.sk-estimator {font-family: monospace;background-color: #f0f8ff;border: 1px dotted black;border-radius: 0.25em;box-sizing: border-box;margin-bottom: 0.5em;}#sk-container-id-1 div.sk-estimator:hover {background-color: #d4ebff;}#sk-container-id-1 div.sk-parallel-item::after {content: \"\";width: 100%;border-bottom: 1px solid gray;flex-grow: 1;}#sk-container-id-1 div.sk-label:hover label.sk-toggleable__label {background-color: #d4ebff;}#sk-container-id-1 div.sk-serial::before {content: \"\";position: absolute;border-left: 1px solid gray;box-sizing: border-box;top: 0;bottom: 0;left: 50%;z-index: 0;}#sk-container-id-1 div.sk-serial {display: flex;flex-direction: column;align-items: center;background-color: white;padding-right: 0.2em;padding-left: 0.2em;position: relative;}#sk-container-id-1 div.sk-item {position: relative;z-index: 1;}#sk-container-id-1 div.sk-parallel {display: flex;align-items: stretch;justify-content: center;background-color: white;position: relative;}#sk-container-id-1 div.sk-item::before, #sk-container-id-1 div.sk-parallel-item::before {content: \"\";position: absolute;border-left: 1px solid gray;box-sizing: border-box;top: 0;bottom: 0;left: 50%;z-index: -1;}#sk-container-id-1 div.sk-parallel-item {display: flex;flex-direction: column;z-index: 1;position: relative;background-color: white;}#sk-container-id-1 div.sk-parallel-item:first-child::after {align-self: flex-end;width: 50%;}#sk-container-id-1 div.sk-parallel-item:last-child::after {align-self: flex-start;width: 50%;}#sk-container-id-1 div.sk-parallel-item:only-child::after {width: 0;}#sk-container-id-1 div.sk-dashed-wrapped {border: 1px dashed gray;margin: 0 0.4em 0.5em 0.4em;box-sizing: border-box;padding-bottom: 0.4em;background-color: white;}#sk-container-id-1 div.sk-label label {font-family: monospace;font-weight: bold;display: inline-block;line-height: 1.2em;}#sk-container-id-1 div.sk-label-container {text-align: center;}#sk-container-id-1 div.sk-container {/* jupyter's `normalize.less` sets `[hidden] { display: none; }` but bootstrap.min.css set `[hidden] { display: none !important; }` so we also need the `!important` here to be able to override the default hidden behavior on the sphinx rendered scikit-learn.org. See: https://github.com/scikit-learn/scikit-learn/issues/21755 */display: inline-block !important;position: relative;}#sk-container-id-1 div.sk-text-repr-fallback {display: none;}</style><div id=\"sk-container-id-1\" class=\"sk-top-container\"><div class=\"sk-text-repr-fallback\"><pre>GradientBoostingClassifier(max_depth=1, n_estimators=1)</pre><b>In a Jupyter environment, please rerun this cell to show the HTML representation or trust the notebook. <br />On GitHub, the HTML representation is unable to render, please try loading this page with nbviewer.org.</b></div><div class=\"sk-container\" hidden><div class=\"sk-item\"><div class=\"sk-estimator sk-toggleable\"><input class=\"sk-toggleable__control sk-hidden--visually\" id=\"sk-estimator-id-1\" type=\"checkbox\" checked><label for=\"sk-estimator-id-1\" class=\"sk-toggleable__label sk-toggleable__label-arrow\">GradientBoostingClassifier</label><div class=\"sk-toggleable__content\"><pre>GradientBoostingClassifier(max_depth=1, n_estimators=1)</pre></div></div></div></div></div>"
      ],
      "text/plain": [
       "GradientBoostingClassifier(max_depth=1, n_estimators=1)"
      ]
     },
     "execution_count": 29,
     "metadata": {},
     "output_type": "execute_result"
    }
   ],
   "source": [
    "from sklearn.datasets import load_iris\n",
    "iris = load_iris()\n",
    "\n",
    "clf = GradientBoostingClassifier(\n",
    "    n_estimators=1,\n",
    "    max_depth=1)\n",
    "\n",
    "clf.fit(iris.data, iris.target)"
   ]
  },
  {
   "cell_type": "code",
   "execution_count": 30,
   "id": "5c82f4a3",
   "metadata": {
    "scrolled": false
   },
   "outputs": [
    {
     "name": "stdout",
     "output_type": "stream",
     "text": [
      "[0.0, 0.0, 0.098, 0.6073]\n",
      "[0.0, 0.0, 0.0189, 0.0232]\n"
     ]
    },
    {
     "data": {
      "image/png": "[encoded data removed]",
      "text/plain": [
       "<Figure size 1800x400 with 1 Axes>"
      ]
     },
     "metadata": {},
     "output_type": "display_data"
    }
   ],
   "source": [
    "fig, ax = plt.subplots(1,1, figsize=(18,4))\n",
    "\n",
    "pimp = permutation_importance(\n",
    "    clf, \n",
    "    iris.data, \n",
    "    iris.target, \n",
    "    n_repeats=10,\n",
    "    random_state=None)\n",
    "\n",
    "\n",
    "# print( pimp.importances, '\\n')\n",
    "print( [round(x,4) for x in pimp.importances_mean] )\n",
    "print( [round(x,4) for x in pimp.importances_std] )\n",
    "\n",
    "ax.bar(iris.feature_names, pimp.importances_mean)\n",
    "\n",
    "plt.show()"
   ]
  }
 ],
 "metadata": {
  "kernelspec": {
   "display_name": "Python 3 (ipykernel)",
   "language": "python",
   "name": "python3"
  },
  "language_info": {
   "codemirror_mode": {
    "name": "ipython",
    "version": 3
   },
   "file_extension": ".py",
   "mimetype": "text/x-python",
   "name": "python",
   "nbconvert_exporter": "python",
   "pygments_lexer": "ipython3",
   "version": "3.10.8"
  }
 },
 "nbformat": 4,
 "nbformat_minor": 5
}
